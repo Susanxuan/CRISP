{
 "cells": [
  {
   "cell_type": "code",
   "execution_count": 1,
   "metadata": {},
   "outputs": [
    {
     "ename": "ModuleNotFoundError",
     "evalue": "No module named 'scgpt'",
     "output_type": "error",
     "traceback": [
      "\u001b[0;31m---------------------------------------------------------------------------\u001b[0m",
      "\u001b[0;31mModuleNotFoundError\u001b[0m                       Traceback (most recent call last)",
      "\u001b[1;32m/ailab/user/zonglicheng/liuxinyuan/projects2/perturb_project/CRISP/scFMs/scGPT/calc_scgpt_emb.ipynb 单元格 1\u001b[0m line \u001b[0;36m2\n\u001b[1;32m      <a href='vscode-notebook-cell://ssh-remote%2Bcompute/ailab/user/zonglicheng/liuxinyuan/projects2/perturb_project/CRISP/scFMs/scGPT/calc_scgpt_emb.ipynb#W0sdnNjb2RlLXJlbW90ZQ%3D%3D?line=0'>1</a>\u001b[0m \u001b[39mimport\u001b[39;00m \u001b[39mscanpy\u001b[39;00m \u001b[39mas\u001b[39;00m \u001b[39msc\u001b[39;00m\n\u001b[0;32m----> <a href='vscode-notebook-cell://ssh-remote%2Bcompute/ailab/user/zonglicheng/liuxinyuan/projects2/perturb_project/CRISP/scFMs/scGPT/calc_scgpt_emb.ipynb#W0sdnNjb2RlLXJlbW90ZQ%3D%3D?line=1'>2</a>\u001b[0m \u001b[39mfrom\u001b[39;00m \u001b[39mscgpt\u001b[39;00m\u001b[39m.\u001b[39;00m\u001b[39mtasks\u001b[39;00m \u001b[39mimport\u001b[39;00m embed_data\n\u001b[1;32m      <a href='vscode-notebook-cell://ssh-remote%2Bcompute/ailab/user/zonglicheng/liuxinyuan/projects2/perturb_project/CRISP/scFMs/scGPT/calc_scgpt_emb.ipynb#W0sdnNjb2RlLXJlbW90ZQ%3D%3D?line=2'>3</a>\u001b[0m \u001b[39mimport\u001b[39;00m \u001b[39mscanpy\u001b[39;00m \u001b[39mas\u001b[39;00m \u001b[39msc\u001b[39;00m\n",
      "\u001b[0;31mModuleNotFoundError\u001b[0m: No module named 'scgpt'"
     ]
    }
   ],
   "source": [
    "import scanpy as sc\n",
    "from scgpt.tasks import embed_data\n",
    "import scanpy as sc"
   ]
  },
  {
   "cell_type": "code",
   "execution_count": 2,
   "metadata": {},
   "outputs": [
    {
     "name": "stderr",
     "output_type": "stream",
     "text": [
      "/ailab/user/liuxinyuan/.local/lib/python3.9/site-packages/anndata/__init__.py:51: FutureWarning: `anndata.read` is deprecated, use `anndata.read_h5ad` instead. `ad.read` will be removed in mid 2024.\n",
      "  warnings.warn(\n"
     ]
    }
   ],
   "source": [
    "adata = sc.read('/ailab/user/liuxinyuan/projects/perturb_project/pbmc_bench/processed/adata_pp_all.h5ad')"
   ]
  },
  {
   "cell_type": "code",
   "execution_count": 3,
   "metadata": {},
   "outputs": [
    {
     "name": "stdout",
     "output_type": "stream",
     "text": [
      "scGPT - INFO - match 29316/33694 genes in vocabulary of size 36574.\n"
     ]
    },
    {
     "name": "stderr",
     "output_type": "stream",
     "text": [
      "/ailab/user/liuxinyuan/.local/lib/python3.9/site-packages/scgpt/model/model.py:77: UserWarning: flash-attn is not installed, using pytorch transformer instead. Set use_fast_transformer=False to avoid this warning. Installing flash-attn is highly recommended.\n",
      "  warnings.warn(\n",
      "Embedding cells: 100%|██████████| 485/485 [01:00<00:00,  7.99it/s]\n",
      "/ailab/user/liuxinyuan/.local/lib/python3.9/site-packages/anndata/_core/anndata.py:522: FutureWarning: The dtype argument is deprecated and will be removed in late 2024.\n",
      "  warnings.warn(\n"
     ]
    }
   ],
   "source": [
    "model_path = \"/ailab/user/liuxinyuan/projects/foundation_models/scGPT/blood\"\n",
    "adata_add = embed_data(adata,model_path,'gene_name',return_new_adata=True)\n",
    "adata.obsm['X_scGPT_blood'] = adata_add.X.copy()"
   ]
  },
  {
   "cell_type": "code",
   "execution_count": 5,
   "metadata": {},
   "outputs": [],
   "source": [
    "adata.write('/ailab/user/liuxinyuan/projects/perturb_project/pbmc_bench/processed/adata_pp_all.h5ad')"
   ]
  },
  {
   "cell_type": "code",
   "execution_count": 22,
   "metadata": {},
   "outputs": [],
   "source": [
    "adata.write_h5ad('/ailab/user/liuxinyuan/projects/perturb_project/nips_data/adata_pp_chemcpa_filtered_scgpt_resplit.h5ad')"
   ]
  },
  {
   "cell_type": "code",
   "execution_count": 32,
   "metadata": {},
   "outputs": [
    {
     "data": {
      "text/plain": [
       "AnnData object with n_obs × n_vars = 13004 × 58347\n",
       "    obs: 'cell_type', 'dose', 'dose_character', 'dose_pattern', 'g1s_score', 'g2m_score', 'pathway', 'pathway_level_1', 'pathway_level_2', 'product_dose', 'product_name', 'proliferation_index', 'replicate', 'size_factor', 'target', 'vehicle', 'batch', 'n_counts', 'dose_val'\n",
       "    var: 'id', 'num_cells_expressed-0-0', 'num_cells_expressed-1-0', 'num_cells_expressed-1', 'highly_variable', 'means', 'dispersions', 'dispersions_norm', 'gene_id', 'id_in_vocab'\n",
       "    uns: 'hvg', 'log1p'\n",
       "    obsm: 'X_scGPT_blood', 'X_scGPT_brain', 'X_scGPT_heart', 'X_scGPT_human'"
      ]
     },
     "execution_count": 32,
     "metadata": {},
     "output_type": "execute_result"
    }
   ],
   "source": [
    "adata"
   ]
  },
  {
   "cell_type": "code",
   "execution_count": 3,
   "metadata": {},
   "outputs": [
    {
     "name": "stderr",
     "output_type": "stream",
     "text": [
      "/ailab/user/liuxinyuan/.local/lib/python3.9/site-packages/anndata/__init__.py:51: FutureWarning: `anndata.read` is deprecated, use `anndata.read_h5ad` instead. `ad.read` will be removed in mid 2024.\n",
      "  warnings.warn(\n"
     ]
    }
   ],
   "source": [
    "sci_p = sc.read('/ailab/user/liuxinyuan/projects/perturb_project/sciplex3/sciplex_smiles_hvgenes_scgpt_resplit.h5ad')"
   ]
  },
  {
   "cell_type": "code",
   "execution_count": 38,
   "metadata": {},
   "outputs": [
    {
     "data": {
      "text/plain": [
       "AnnData object with n_obs × n_vars = 13004 × 58347\n",
       "    obs: 'cell_type', 'dose', 'dose_character', 'dose_pattern', 'g1s_score', 'g2m_score', 'pathway', 'pathway_level_1', 'pathway_level_2', 'product_dose', 'product_name', 'proliferation_index', 'replicate', 'size_factor', 'target', 'vehicle', 'batch', 'n_counts', 'dose_val'\n",
       "    var: 'id', 'num_cells_expressed-0-0', 'num_cells_expressed-1-0', 'num_cells_expressed-1', 'highly_variable', 'means', 'dispersions', 'dispersions_norm', 'gene_id', 'id_in_vocab'\n",
       "    uns: 'hvg', 'log1p'\n",
       "    obsm: 'X_scGPT_blood', 'X_scGPT_brain', 'X_scGPT_heart', 'X_scGPT_human'"
      ]
     },
     "execution_count": 38,
     "metadata": {},
     "output_type": "execute_result"
    }
   ],
   "source": [
    "adata"
   ]
  },
  {
   "cell_type": "code",
   "execution_count": 41,
   "metadata": {},
   "outputs": [],
   "source": [
    "import numpy as np\n",
    "for name in ['X_scGPT_blood', 'X_scGPT_brain', 'X_scGPT_heart', 'X_scGPT_human']:\n",
    "    pre = np.zeros([len(sci_p),adata.obsm[name].shape[1]])\n",
    "    index_to_num = dict(zip(sci_p.obs.index,range(len(sci_p))))\n",
    "    ctrl_index = adata.obs.index.copy()\n",
    "    ctrl_num = [index_to_num[i] for i in ctrl_index]\n",
    "    pre[ctrl_num,:] = np.array(adata.obsm[name].copy())\n",
    "    sci_p.obsm[name] = pre.copy()"
   ]
  },
  {
   "cell_type": "code",
   "execution_count": 51,
   "metadata": {},
   "outputs": [],
   "source": [
    "sci_p.write_h5ad('/ailab/user/liuxinyuan/projects/perturb_project/sciplex3/sciplex_smiles_hvgenes_scgpt_resplit.h5ad')"
   ]
  },
  {
   "cell_type": "code",
   "execution_count": 52,
   "metadata": {},
   "outputs": [
    {
     "data": {
      "text/plain": [
       "AnnData object with n_obs × n_vars = 581777 × 5000\n",
       "    obs: 'cell_type', 'dose', 'dose_character', 'dose_pattern', 'g1s_score', 'g2m_score', 'pathway', 'pathway_level_1', 'pathway_level_2', 'product_dose', 'product_name', 'proliferation_index', 'replicate', 'size_factor', 'target', 'vehicle', 'batch', 'n_counts', 'condition', 'dose_val', 'drug_dose_name', 'cov_drug_dose_name', 'cov_drug_name', 'control', 'SMILES', 'split', 'dose_val2', 'split2', 'split3', 'split_drugs', 'split_drugs2', 'split_drugs3'\n",
       "    var: 'id', 'num_cells_expressed-0-0', 'num_cells_expressed-1-0', 'num_cells_expressed-1', 'highly_variable', 'means', 'dispersions', 'dispersions_norm'\n",
       "    uns: 'hvg', 'log1p', 'rank_genes_groups_cov'\n",
       "    obsm: 'Geneformer', 'Geneformer_Pre', 'X_scGPT', 'X_scGPT_blood', 'X_scGPT_brain', 'X_scGPT_heart', 'X_scGPT_human'"
      ]
     },
     "execution_count": 52,
     "metadata": {},
     "output_type": "execute_result"
    }
   ],
   "source": [
    "sci_p"
   ]
  },
  {
   "cell_type": "code",
   "execution_count": 1,
   "metadata": {},
   "outputs": [
    {
     "name": "stderr",
     "output_type": "stream",
     "text": [
      "/ailab/user/liuxinyuan/.local/lib/python3.9/site-packages/anndata/__init__.py:51: FutureWarning: `anndata.read` is deprecated, use `anndata.read_h5ad` instead. `ad.read` will be removed in mid 2024.\n",
      "  warnings.warn(\n"
     ]
    }
   ],
   "source": [
    "import scanpy as sc\n",
    "nips = sc.read('/ailab/user/liuxinyuan/projects/perturb_project/nips_data/adata_pp_chemcpa_filtered_scgpt_resplit_2.h5ad')"
   ]
  },
  {
   "cell_type": "code",
   "execution_count": 60,
   "metadata": {},
   "outputs": [
    {
     "data": {
      "text/plain": [
       "000006a87ba75b72      ood\n",
       "0000233976e3cd37    train\n",
       "0001533c5e876362    train\n",
       "00022f989630d14b    train\n",
       "0002560bd38ce03e    train\n",
       "                    ...  \n",
       "ffff28f274e983df    train\n",
       "ffff32893af5befb     test\n",
       "ffff6c3e0a7b05ad    train\n",
       "ffff8e571c7e8cb0    train\n",
       "ffffe67500d95d8d      ood\n",
       "Name: split2, Length: 240059, dtype: category\n",
       "Categories (3, object): ['ood', 'test', 'train']"
      ]
     },
     "execution_count": 60,
     "metadata": {},
     "output_type": "execute_result"
    }
   ],
   "source": [
    "nips.obs['split2']"
   ]
  },
  {
   "cell_type": "code",
   "execution_count": 57,
   "metadata": {},
   "outputs": [
    {
     "name": "stderr",
     "output_type": "stream",
     "text": [
      "/ailab/user/liuxinyuan/.local/lib/python3.9/site-packages/anndata/__init__.py:51: FutureWarning: `anndata.read` is deprecated, use `anndata.read_h5ad` instead. `ad.read` will be removed in mid 2024.\n",
      "  warnings.warn(\n"
     ]
    }
   ],
   "source": [
    "nips2 = sc.read('/ailab/user/liuxinyuan/projects/perturb_project/nips_data/adata_pp_chemcpa_filtered_scgpt_resplit.h5ad')"
   ]
  },
  {
   "cell_type": "code",
   "execution_count": 59,
   "metadata": {},
   "outputs": [
    {
     "data": {
      "text/plain": [
       "000006a87ba75b72     test\n",
       "0000233976e3cd37    train\n",
       "0001533c5e876362      ood\n",
       "00022f989630d14b    train\n",
       "0002560bd38ce03e    train\n",
       "                    ...  \n",
       "ffff28f274e983df     test\n",
       "ffff32893af5befb    train\n",
       "ffff6c3e0a7b05ad    train\n",
       "ffff8e571c7e8cb0    train\n",
       "ffffe67500d95d8d      ood\n",
       "Name: split, Length: 240059, dtype: category\n",
       "Categories (3, object): ['ood', 'test', 'train']"
      ]
     },
     "execution_count": 59,
     "metadata": {},
     "output_type": "execute_result"
    }
   ],
   "source": [
    "nips2.obs['split']"
   ]
  },
  {
   "cell_type": "code",
   "execution_count": 2,
   "metadata": {},
   "outputs": [
    {
     "data": {
      "text/html": [
       "<div>\n",
       "<style scoped>\n",
       "    .dataframe tbody tr th:only-of-type {\n",
       "        vertical-align: middle;\n",
       "    }\n",
       "\n",
       "    .dataframe tbody tr th {\n",
       "        vertical-align: top;\n",
       "    }\n",
       "\n",
       "    .dataframe thead th {\n",
       "        text-align: right;\n",
       "    }\n",
       "</style>\n",
       "<table border=\"1\" class=\"dataframe\">\n",
       "  <thead>\n",
       "    <tr style=\"text-align: right;\">\n",
       "      <th>cell_type</th>\n",
       "      <th>B cells</th>\n",
       "      <th>Myeloid cells</th>\n",
       "      <th>NK cells</th>\n",
       "      <th>T cells CD4+</th>\n",
       "      <th>T cells CD8+</th>\n",
       "      <th>T regulatory cells</th>\n",
       "    </tr>\n",
       "    <tr>\n",
       "      <th>condition</th>\n",
       "      <th></th>\n",
       "      <th></th>\n",
       "      <th></th>\n",
       "      <th></th>\n",
       "      <th></th>\n",
       "      <th></th>\n",
       "    </tr>\n",
       "  </thead>\n",
       "  <tbody>\n",
       "    <tr>\n",
       "      <th>59Isopropyl8methyl2morpholino9Hpurin6ylpyrimidin2amine</th>\n",
       "      <td>0</td>\n",
       "      <td>0</td>\n",
       "      <td>290</td>\n",
       "      <td>677</td>\n",
       "      <td>51</td>\n",
       "      <td>33</td>\n",
       "    </tr>\n",
       "    <tr>\n",
       "      <th>ABT737</th>\n",
       "      <td>0</td>\n",
       "      <td>0</td>\n",
       "      <td>132</td>\n",
       "      <td>331</td>\n",
       "      <td>33</td>\n",
       "      <td>27</td>\n",
       "    </tr>\n",
       "    <tr>\n",
       "      <th>ABT199GDC0199</th>\n",
       "      <td>0</td>\n",
       "      <td>0</td>\n",
       "      <td>223</td>\n",
       "      <td>425</td>\n",
       "      <td>40</td>\n",
       "      <td>52</td>\n",
       "    </tr>\n",
       "    <tr>\n",
       "      <th>AMD070hydrochloride</th>\n",
       "      <td>0</td>\n",
       "      <td>0</td>\n",
       "      <td>280</td>\n",
       "      <td>455</td>\n",
       "      <td>50</td>\n",
       "      <td>32</td>\n",
       "    </tr>\n",
       "    <tr>\n",
       "      <th>AT13387</th>\n",
       "      <td>0</td>\n",
       "      <td>0</td>\n",
       "      <td>364</td>\n",
       "      <td>435</td>\n",
       "      <td>11</td>\n",
       "      <td>6</td>\n",
       "    </tr>\n",
       "    <tr>\n",
       "      <th>...</th>\n",
       "      <td>...</td>\n",
       "      <td>...</td>\n",
       "      <td>...</td>\n",
       "      <td>...</td>\n",
       "      <td>...</td>\n",
       "      <td>...</td>\n",
       "    </tr>\n",
       "    <tr>\n",
       "      <th>Vandetanib</th>\n",
       "      <td>0</td>\n",
       "      <td>0</td>\n",
       "      <td>249</td>\n",
       "      <td>490</td>\n",
       "      <td>73</td>\n",
       "      <td>40</td>\n",
       "    </tr>\n",
       "    <tr>\n",
       "      <th>Vanoxerine</th>\n",
       "      <td>0</td>\n",
       "      <td>0</td>\n",
       "      <td>238</td>\n",
       "      <td>441</td>\n",
       "      <td>81</td>\n",
       "      <td>37</td>\n",
       "    </tr>\n",
       "    <tr>\n",
       "      <th>Vardenafil</th>\n",
       "      <td>0</td>\n",
       "      <td>0</td>\n",
       "      <td>255</td>\n",
       "      <td>489</td>\n",
       "      <td>44</td>\n",
       "      <td>45</td>\n",
       "    </tr>\n",
       "    <tr>\n",
       "      <th>Vorinostat</th>\n",
       "      <td>0</td>\n",
       "      <td>0</td>\n",
       "      <td>142</td>\n",
       "      <td>648</td>\n",
       "      <td>156</td>\n",
       "      <td>0</td>\n",
       "    </tr>\n",
       "    <tr>\n",
       "      <th>YK4279</th>\n",
       "      <td>0</td>\n",
       "      <td>0</td>\n",
       "      <td>299</td>\n",
       "      <td>483</td>\n",
       "      <td>37</td>\n",
       "      <td>31</td>\n",
       "    </tr>\n",
       "  </tbody>\n",
       "</table>\n",
       "<p>147 rows × 6 columns</p>\n",
       "</div>"
      ],
      "text/plain": [
       "cell_type                                           B cells  Myeloid cells  \\\n",
       "condition                                                                    \n",
       "59Isopropyl8methyl2morpholino9Hpurin6ylpyrimidi...        0              0   \n",
       "ABT737                                                    0              0   \n",
       "ABT199GDC0199                                             0              0   \n",
       "AMD070hydrochloride                                       0              0   \n",
       "AT13387                                                   0              0   \n",
       "...                                                     ...            ...   \n",
       "Vandetanib                                                0              0   \n",
       "Vanoxerine                                                0              0   \n",
       "Vardenafil                                                0              0   \n",
       "Vorinostat                                                0              0   \n",
       "YK4279                                                    0              0   \n",
       "\n",
       "cell_type                                           NK cells  T cells CD4+  \\\n",
       "condition                                                                    \n",
       "59Isopropyl8methyl2morpholino9Hpurin6ylpyrimidi...       290           677   \n",
       "ABT737                                                   132           331   \n",
       "ABT199GDC0199                                            223           425   \n",
       "AMD070hydrochloride                                      280           455   \n",
       "AT13387                                                  364           435   \n",
       "...                                                      ...           ...   \n",
       "Vandetanib                                               249           490   \n",
       "Vanoxerine                                               238           441   \n",
       "Vardenafil                                               255           489   \n",
       "Vorinostat                                               142           648   \n",
       "YK4279                                                   299           483   \n",
       "\n",
       "cell_type                                           T cells CD8+  \\\n",
       "condition                                                          \n",
       "59Isopropyl8methyl2morpholino9Hpurin6ylpyrimidi...            51   \n",
       "ABT737                                                        33   \n",
       "ABT199GDC0199                                                 40   \n",
       "AMD070hydrochloride                                           50   \n",
       "AT13387                                                       11   \n",
       "...                                                          ...   \n",
       "Vandetanib                                                    73   \n",
       "Vanoxerine                                                    81   \n",
       "Vardenafil                                                    44   \n",
       "Vorinostat                                                   156   \n",
       "YK4279                                                        37   \n",
       "\n",
       "cell_type                                           T regulatory cells  \n",
       "condition                                                               \n",
       "59Isopropyl8methyl2morpholino9Hpurin6ylpyrimidi...                  33  \n",
       "ABT737                                                              27  \n",
       "ABT199GDC0199                                                       52  \n",
       "AMD070hydrochloride                                                 32  \n",
       "AT13387                                                              6  \n",
       "...                                                                ...  \n",
       "Vandetanib                                                          40  \n",
       "Vanoxerine                                                          37  \n",
       "Vardenafil                                                          45  \n",
       "Vorinostat                                                           0  \n",
       "YK4279                                                              31  \n",
       "\n",
       "[147 rows x 6 columns]"
      ]
     },
     "execution_count": 2,
     "metadata": {},
     "output_type": "execute_result"
    }
   ],
   "source": [
    "import pandas as pd\n",
    "adata = nips.copy()\n",
    "adata_train = adata[adata.obs['split4']=='train']\n",
    "adata_test = adata[adata.obs['split4']=='test']\n",
    "adata_ood = adata[adata.obs['split4']=='ood']\n",
    "pd.crosstab(adata_train.obs['condition'],adata_train.obs['cell_type'])"
   ]
  },
  {
   "cell_type": "code",
   "execution_count": 4,
   "metadata": {},
   "outputs": [
    {
     "data": {
      "text/plain": [
       "AnnData object with n_obs × n_vars = 581777 × 5000\n",
       "    obs: 'cell_type', 'dose', 'dose_character', 'dose_pattern', 'g1s_score', 'g2m_score', 'pathway', 'pathway_level_1', 'pathway_level_2', 'product_dose', 'product_name', 'proliferation_index', 'replicate', 'size_factor', 'target', 'vehicle', 'batch', 'n_counts', 'condition', 'dose_val', 'drug_dose_name', 'cov_drug_dose_name', 'cov_drug_name', 'control', 'SMILES', 'split', 'dose_val2', 'split2', 'split3', 'split_drugs', 'split_drugs2', 'split_drugs3'\n",
       "    var: 'id', 'num_cells_expressed-0-0', 'num_cells_expressed-1-0', 'num_cells_expressed-1', 'highly_variable', 'means', 'dispersions', 'dispersions_norm'\n",
       "    uns: 'hvg', 'log1p', 'rank_genes_groups_cov'\n",
       "    obsm: 'Geneformer', 'Geneformer_Pre', 'X_scGPT', 'X_scGPT_blood', 'X_scGPT_brain', 'X_scGPT_heart', 'X_scGPT_human'"
      ]
     },
     "execution_count": 4,
     "metadata": {},
     "output_type": "execute_result"
    }
   ],
   "source": [
    "sci_p"
   ]
  },
  {
   "cell_type": "code",
   "execution_count": null,
   "metadata": {},
   "outputs": [],
   "source": []
  }
 ],
 "metadata": {
  "kernelspec": {
   "display_name": "Python 3",
   "language": "python",
   "name": "python3"
  },
  "language_info": {
   "codemirror_mode": {
    "name": "ipython",
    "version": 3
   },
   "file_extension": ".py",
   "mimetype": "text/x-python",
   "name": "python",
   "nbconvert_exporter": "python",
   "pygments_lexer": "ipython3",
   "version": "3.9.19"
  }
 },
 "nbformat": 4,
 "nbformat_minor": 4
}
