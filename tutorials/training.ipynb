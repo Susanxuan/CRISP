{
 "cells": [
  {
   "cell_type": "markdown",
   "metadata": {},
   "source": [
    "## Tutorial notebook of training with CRISP\n",
    "\n",
    "In this notebook, we take NeurIPS as example to show how to train CRISP with measured perturbation single cell RNA-seq dataset. \\\n",
    "In practice, considering the large scale amount of single cell training data and high dimensional gene features, we recommend user to train it with terminal script, only 1 GPU node is enough."
   ]
  },
  {
   "cell_type": "code",
   "execution_count": 1,
   "metadata": {},
   "outputs": [
    {
     "name": "stdout",
     "output_type": "stream",
     "text": [
      "[KeOps] Warning : Cuda libraries were not detected on the system or could not be loaded ; using cpu only mode\n"
     ]
    }
   ],
   "source": [
    "from CRISP.trainer import Trainer\n",
    "import scanpy as sc\n",
    "import torch\n",
    "import pandas as pd"
   ]
  },
  {
   "cell_type": "code",
   "execution_count": 2,
   "metadata": {},
   "outputs": [],
   "source": [
    "adata = sc.read('PATH/TO/NEURIPS/DATASET')"
   ]
  },
  {
   "cell_type": "code",
   "execution_count": 3,
   "metadata": {},
   "outputs": [],
   "source": [
    "dataset_params = {\n",
    "    'perturbation_key':'condition',\n",
    "    'dose_key': 'dose_val',\n",
    "    'smiles_key': 'SMILES',\n",
    "    'celltype_key': 'cell_type',\n",
    "    'FM_key': 'X_scGPT',\n",
    "    'control_key': 'control',\n",
    "    'pc_cov': 'cell_type',\n",
    "    'degs_key': \"rank_genes_groups_cov\",\n",
    "    'pert_category': \"cov_drug_name\",\n",
    "    'split_ood': True,\n",
    "    'split_key': \"split\",\n",
    "    'seed': 1327,\n",
    "}"
   ]
  },
  {
   "cell_type": "code",
   "execution_count": 6,
   "metadata": {},
   "outputs": [],
   "source": [
    "exp = Trainer()"
   ]
  },
  {
   "cell_type": "code",
   "execution_count": 7,
   "metadata": {},
   "outputs": [],
   "source": [
    "exp.init_dataset(adata_obj=adata,**dataset_params)"
   ]
  },
  {
   "cell_type": "code",
   "execution_count": 8,
   "metadata": {},
   "outputs": [],
   "source": [
    "chem_df = pd.read_parquet('../data/drug_embeddings/rdkit2D_embedding_lincs_nips.parquet')"
   ]
  },
  {
   "cell_type": "code",
   "execution_count": 9,
   "metadata": {},
   "outputs": [],
   "source": [
    "exp.init_drug_embedding(chem_model='rdkit',chem_df=chem_df)"
   ]
  },
  {
   "cell_type": "code",
   "execution_count": 10,
   "metadata": {},
   "outputs": [],
   "source": [
    "device = \"cuda\" if torch.cuda.is_available() else \"cpu\"\n",
    "exp.init_model(\n",
    "    hparams='',\n",
    "    seed=1337,\n",
    ")\n",
    "exp.load_train()"
   ]
  },
  {
   "cell_type": "code",
   "execution_count": 11,
   "metadata": {},
   "outputs": [],
   "source": [
    "train_params = {\n",
    "    'checkpoint_freq': 25, # checkpoint frequency to run evaluate\n",
    "    'num_epochs': 51,\n",
    "    'max_minutes': 1000,\n",
    "    'save_dir': '../experiments/results/test',\n",
    "}"
   ]
  },
  {
   "cell_type": "code",
   "execution_count": null,
   "metadata": {},
   "outputs": [],
   "source": [
    "results = exp.train(**train_params)"
   ]
  },
  {
   "cell_type": "code",
   "execution_count": null,
   "metadata": {},
   "outputs": [],
   "source": []
  }
 ],
 "metadata": {
  "kernelspec": {
   "display_name": "scgpt",
   "language": "python",
   "name": "python3"
  },
  "language_info": {
   "codemirror_mode": {
    "name": "ipython",
    "version": 3
   },
   "file_extension": ".py",
   "mimetype": "text/x-python",
   "name": "python",
   "nbconvert_exporter": "python",
   "pygments_lexer": "ipython3",
   "version": "3.9.19"
  }
 },
 "nbformat": 4,
 "nbformat_minor": 2
}
