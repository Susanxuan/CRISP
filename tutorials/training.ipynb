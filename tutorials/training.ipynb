{
 "cells": [
  {
   "cell_type": "markdown",
   "metadata": {},
   "source": [
    "## Tutorial notebook of training with CRISP\n",
    "\n",
    "In this notebook, we take NeurIPS as example to show how to train CRISP with measured perturbation single cell RNA-seq dataset. \\\n",
    "In practice, considering the large scale amount of single cell training data and high dimensional gene features, we recommend user to train it with shell script, only 1 GPU node is enough."
   ]
  },
  {
   "cell_type": "code",
   "execution_count": 1,
   "metadata": {},
   "outputs": [],
   "source": [
    "from CRISP.trainer import Trainer\n",
    "import scanpy as sc\n",
    "import torch\n",
    "import pandas as pd"
   ]
  },
  {
   "cell_type": "code",
   "execution_count": 3,
   "metadata": {},
   "outputs": [],
   "source": [
    "adata = sc.read('adata_pp_filtered_scFM_resplit.h5ad')"
   ]
  },
  {
   "cell_type": "code",
   "execution_count": 4,
   "metadata": {},
   "outputs": [],
   "source": [
    "dataset_params = {\n",
    "    'perturbation_key':'condition',\n",
    "    'dose_key': 'dose_val',\n",
    "    'smiles_key': 'SMILES',\n",
    "    'celltype_key': 'cell_type',\n",
    "    'FM_key': 'X_scGPT',\n",
    "    'control_key': 'neg_control',\n",
    "    'pc_cov': 'type_donor',\n",
    "    'degs_key': \"rank_genes_groups_cov\",\n",
    "    'pert_category': \"cov_drug_name\",\n",
    "    'split_ood': True,\n",
    "    'split_key': \"split\",\n",
    "    'seed': 1327,\n",
    "}"
   ]
  },
  {
   "cell_type": "code",
   "execution_count": 5,
   "metadata": {},
   "outputs": [],
   "source": [
    "exp = Trainer()"
   ]
  },
  {
   "cell_type": "code",
   "execution_count": 6,
   "metadata": {},
   "outputs": [
    {
     "name": "stderr",
     "output_type": "stream",
     "text": [
      "/ailab/user/chenpengan/liuxinyuan/new_liuxinyuan/perturb_project/CRISP/CRISP/data.py:71: FutureWarning: Series.__getitem__ treating keys as positions is deprecated. In a future version, integer keys will always be treated as labels (consistent with DataFrame behavior). To access a value by position, use `ser.iloc[pos]`\n",
      "  choice_control_mean = [group_dict[obs_df['pc_cov_split'][i]] for i in treated_index]\n",
      "/ailab/user/chenpengan/liuxinyuan/new_liuxinyuan/perturb_project/CRISP/CRISP/data.py:102: FutureWarning: The default of observed=False is deprecated and will be changed to True in a future version of pandas. Pass observed=False to retain current behavior or observed=True to adopt the future default and silence this warning.\n",
      "  for drug, smiles in dataset.obs.groupby(\n"
     ]
    }
   ],
   "source": [
    "exp.init_dataset(adata_obj=adata,**dataset_params)"
   ]
  },
  {
   "cell_type": "code",
   "execution_count": 7,
   "metadata": {},
   "outputs": [],
   "source": [
    "chem_df = pd.read_parquet('../data/drug_embeddings/rdkit2D_embedding_lincs_nips.parquet')"
   ]
  },
  {
   "cell_type": "code",
   "execution_count": 8,
   "metadata": {},
   "outputs": [],
   "source": [
    "exp.init_drug_embedding(chem_model='rdkit',chem_df=chem_df)"
   ]
  },
  {
   "cell_type": "code",
   "execution_count": 9,
   "metadata": {},
   "outputs": [],
   "source": [
    "device = \"cuda\" if torch.cuda.is_available() else \"cpu\"\n",
    "exp.init_model(\n",
    "    hparams='',\n",
    "    seed=1337,\n",
    ")\n",
    "exp.load_train()"
   ]
  },
  {
   "cell_type": "code",
   "execution_count": 10,
   "metadata": {},
   "outputs": [],
   "source": [
    "train_params = {\n",
    "    'checkpoint_freq': 51, # checkpoint frequency to run evaluate\n",
    "    'num_epochs': 51,\n",
    "    'max_minutes': 1000,\n",
    "    'save_dir': '../experiments/results/nips_test',\n",
    "}"
   ]
  },
  {
   "cell_type": "code",
   "execution_count": 11,
   "metadata": {},
   "outputs": [
    {
     "name": "stderr",
     "output_type": "stream",
     "text": [
      "100%|██████████| 51/51 [39:34<00:00, 46.56s/it]\n"
     ]
    }
   ],
   "source": [
    "results = exp.train(**train_params)"
   ]
  },
  {
   "cell_type": "code",
   "execution_count": 12,
   "metadata": {},
   "outputs": [
    {
     "data": {
      "text/plain": [
       "[{'r2score': 0.9322444459834656,\n",
       "  'r2score_de': 0.23656416248965573,\n",
       "  'pearson': 0.9696602225764862,\n",
       "  'pearson_de': 0.44427059194645313,\n",
       "  'mse': 0.07321457,\n",
       "  'mse_de': 0.45216295,\n",
       "  'pearson_delta': 0.40612612374275175,\n",
       "  'pearson_delta_de': 0.6822232767848168,\n",
       "  'sinkhorn_de': 16.342594424625496}]"
      ]
     },
     "execution_count": 12,
     "metadata": {},
     "output_type": "execute_result"
    }
   ],
   "source": [
    "results['ood']"
   ]
  },
  {
   "cell_type": "code",
   "execution_count": null,
   "metadata": {},
   "outputs": [],
   "source": []
  }
 ],
 "metadata": {
  "kernelspec": {
   "display_name": "scgpt",
   "language": "python",
   "name": "python3"
  },
  "language_info": {
   "codemirror_mode": {
    "name": "ipython",
    "version": 3
   },
   "file_extension": ".py",
   "mimetype": "text/x-python",
   "name": "python",
   "nbconvert_exporter": "python",
   "pygments_lexer": "ipython3",
   "version": "3.9.20"
  }
 },
 "nbformat": 4,
 "nbformat_minor": 2
}
